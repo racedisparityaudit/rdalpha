{
 "cells": [
  {
   "cell_type": "code",
   "execution_count": 41,
   "metadata": {
    "collapsed": true
   },
   "outputs": [],
   "source": [
    "import pandas as pd\n",
    "import numpy as np\n",
    "import re"
   ]
  },
  {
   "cell_type": "code",
   "execution_count": 42,
   "metadata": {
    "collapsed": false
   },
   "outputs": [
    {
     "data": {
      "text/html": [
       "<div>\n",
       "<table border=\"1\" class=\"dataframe\">\n",
       "  <thead>\n",
       "    <tr style=\"text-align: right;\">\n",
       "      <th></th>\n",
       "      <th>Topic</th>\n",
       "      <th>Subtopic</th>\n",
       "      <th>Measuretitle</th>\n",
       "    </tr>\n",
       "  </thead>\n",
       "  <tbody>\n",
       "    <tr>\n",
       "      <th>0</th>\n",
       "      <td>Housing and Living Standards</td>\n",
       "      <td>Housing</td>\n",
       "      <td>Home ownership in England</td>\n",
       "    </tr>\n",
       "    <tr>\n",
       "      <th>1</th>\n",
       "      <td>Housing and Living Standards</td>\n",
       "      <td>Housing</td>\n",
       "      <td>People who get financial help from their paren...</td>\n",
       "    </tr>\n",
       "    <tr>\n",
       "      <th>2</th>\n",
       "      <td>Housing and Living Standards</td>\n",
       "      <td>Housing</td>\n",
       "      <td>Average age of people who buy a home</td>\n",
       "    </tr>\n",
       "    <tr>\n",
       "      <th>3</th>\n",
       "      <td>Housing and Living Standards</td>\n",
       "      <td>Housing</td>\n",
       "      <td>Home buyer deposits in England</td>\n",
       "    </tr>\n",
       "    <tr>\n",
       "      <th>4</th>\n",
       "      <td>Housing and Living Standards</td>\n",
       "      <td>Housing</td>\n",
       "      <td>People living in social housing in England</td>\n",
       "    </tr>\n",
       "    <tr>\n",
       "      <th>5</th>\n",
       "      <td>Housing and Living Standards</td>\n",
       "      <td>Housing</td>\n",
       "      <td>Reasons for moving into social housing</td>\n",
       "    </tr>\n",
       "    <tr>\n",
       "      <th>6</th>\n",
       "      <td>Housing and Living Standards</td>\n",
       "      <td>Housing</td>\n",
       "      <td>How long people live in social housing</td>\n",
       "    </tr>\n",
       "    <tr>\n",
       "      <th>7</th>\n",
       "      <td>Housing and Living Standards</td>\n",
       "      <td>Housing</td>\n",
       "      <td>Different routes into social housing</td>\n",
       "    </tr>\n",
       "    <tr>\n",
       "      <th>8</th>\n",
       "      <td>Housing and Living Standards</td>\n",
       "      <td>Housing</td>\n",
       "      <td>Vulnerable people living in social housing</td>\n",
       "    </tr>\n",
       "    <tr>\n",
       "      <th>9</th>\n",
       "      <td>Housing and Living Standards</td>\n",
       "      <td>Housing</td>\n",
       "      <td>Access to social housing</td>\n",
       "    </tr>\n",
       "  </tbody>\n",
       "</table>\n",
       "</div>"
      ],
      "text/plain": [
       "                          Topic Subtopic  \\\n",
       "0  Housing and Living Standards  Housing   \n",
       "1  Housing and Living Standards  Housing   \n",
       "2  Housing and Living Standards  Housing   \n",
       "3  Housing and Living Standards  Housing   \n",
       "4  Housing and Living Standards  Housing   \n",
       "5  Housing and Living Standards  Housing   \n",
       "6  Housing and Living Standards  Housing   \n",
       "7  Housing and Living Standards  Housing   \n",
       "8  Housing and Living Standards  Housing   \n",
       "9  Housing and Living Standards  Housing   \n",
       "\n",
       "                                        Measuretitle  \n",
       "0                          Home ownership in England  \n",
       "1  People who get financial help from their paren...  \n",
       "2               Average age of people who buy a home  \n",
       "3                     Home buyer deposits in England  \n",
       "4         People living in social housing in England  \n",
       "5             Reasons for moving into social housing  \n",
       "6             How long people live in social housing  \n",
       "7               Different routes into social housing  \n",
       "8         Vulnerable people living in social housing  \n",
       "9                           Access to social housing  "
      ]
     },
     "execution_count": 42,
     "metadata": {},
     "output_type": "execute_result"
    }
   ],
   "source": [
    "data = pd.read_excel(io=\"../data/input/new_taxonomy.xlsx\", sheetname=\"Sheet1\").fillna('')\n",
    "data.head(10)"
   ]
  },
  {
   "cell_type": "code",
   "execution_count": 43,
   "metadata": {
    "collapsed": true
   },
   "outputs": [],
   "source": [
    "output_columns = ['name', 'parent_name', 'uri', 'parent_uri', 'description', 'level', 'source', ]\n",
    "output = pd.DataFrame(columns=output_columns)"
   ]
  },
  {
   "cell_type": "code",
   "execution_count": 44,
   "metadata": {
    "collapsed": false
   },
   "outputs": [
    {
     "data": {
      "text/html": [
       "<div>\n",
       "<table border=\"1\" class=\"dataframe\">\n",
       "  <thead>\n",
       "    <tr style=\"text-align: right;\">\n",
       "      <th></th>\n",
       "      <th>name</th>\n",
       "      <th>parent_name</th>\n",
       "      <th>uri</th>\n",
       "      <th>parent_uri</th>\n",
       "      <th>description</th>\n",
       "      <th>level</th>\n",
       "      <th>source</th>\n",
       "    </tr>\n",
       "  </thead>\n",
       "  <tbody>\n",
       "    <tr>\n",
       "      <th>0</th>\n",
       "      <td>Homepage</td>\n",
       "      <td></td>\n",
       "      <td>/</td>\n",
       "      <td></td>\n",
       "      <td>Racial Disparity Audit Homepage</td>\n",
       "      <td>T0</td>\n",
       "      <td></td>\n",
       "    </tr>\n",
       "  </tbody>\n",
       "</table>\n",
       "</div>"
      ],
      "text/plain": [
       "       name parent_name uri parent_uri                      description level  \\\n",
       "0  Homepage               /             Racial Disparity Audit Homepage    T0   \n",
       "\n",
       "  source  \n",
       "0         "
      ]
     },
     "execution_count": 44,
     "metadata": {},
     "output_type": "execute_result"
    }
   ],
   "source": [
    "t0_output = pd.DataFrame(columns=output_columns)\n",
    "t0_output.loc[len(t0_output)]=['Homepage','','/','', 'Racial Disparity Audit Homepage', 'T0', '']\n",
    "t0_output"
   ]
  },
  {
   "cell_type": "code",
   "execution_count": 45,
   "metadata": {
    "collapsed": true
   },
   "outputs": [],
   "source": [
    "def to_uri(astr):\n",
    "    return re.sub(r'\\W+', '', astr).lower()"
   ]
  },
  {
   "cell_type": "code",
   "execution_count": 46,
   "metadata": {
    "collapsed": false
   },
   "outputs": [
    {
     "data": {
      "text/html": [
       "<div>\n",
       "<table border=\"1\" class=\"dataframe\">\n",
       "  <thead>\n",
       "    <tr style=\"text-align: right;\">\n",
       "      <th></th>\n",
       "      <th>name</th>\n",
       "      <th>parent_name</th>\n",
       "      <th>uri</th>\n",
       "      <th>parent_uri</th>\n",
       "      <th>description</th>\n",
       "      <th>level</th>\n",
       "      <th>source</th>\n",
       "    </tr>\n",
       "  </thead>\n",
       "  <tbody>\n",
       "    <tr>\n",
       "      <th>0</th>\n",
       "      <td>Housing and Living Standards</td>\n",
       "      <td>Homepage</td>\n",
       "      <td>/housingandlivingstandards</td>\n",
       "      <td>/</td>\n",
       "      <td>Housing and Living Standards</td>\n",
       "      <td>T1</td>\n",
       "      <td></td>\n",
       "    </tr>\n",
       "    <tr>\n",
       "      <th>1</th>\n",
       "      <td>Work</td>\n",
       "      <td>Homepage</td>\n",
       "      <td>/work</td>\n",
       "      <td>/</td>\n",
       "      <td>Work</td>\n",
       "      <td>T1</td>\n",
       "      <td></td>\n",
       "    </tr>\n",
       "    <tr>\n",
       "      <th>2</th>\n",
       "      <td>Private life and community</td>\n",
       "      <td>Homepage</td>\n",
       "      <td>/privatelifeandcommunity</td>\n",
       "      <td>/</td>\n",
       "      <td>Private life and community</td>\n",
       "      <td>T1</td>\n",
       "      <td></td>\n",
       "    </tr>\n",
       "    <tr>\n",
       "      <th>3</th>\n",
       "      <td>Health</td>\n",
       "      <td>Homepage</td>\n",
       "      <td>/health</td>\n",
       "      <td>/</td>\n",
       "      <td>Health</td>\n",
       "      <td>T1</td>\n",
       "      <td></td>\n",
       "    </tr>\n",
       "    <tr>\n",
       "      <th>4</th>\n",
       "      <td>Education</td>\n",
       "      <td>Homepage</td>\n",
       "      <td>/education</td>\n",
       "      <td>/</td>\n",
       "      <td>Education</td>\n",
       "      <td>T1</td>\n",
       "      <td></td>\n",
       "    </tr>\n",
       "    <tr>\n",
       "      <th>5</th>\n",
       "      <td>Security and justice</td>\n",
       "      <td>Homepage</td>\n",
       "      <td>/securityandjustice</td>\n",
       "      <td>/</td>\n",
       "      <td>Security and justice</td>\n",
       "      <td>T1</td>\n",
       "      <td></td>\n",
       "    </tr>\n",
       "  </tbody>\n",
       "</table>\n",
       "</div>"
      ],
      "text/plain": [
       "                           name parent_name                         uri  \\\n",
       "0  Housing and Living Standards    Homepage  /housingandlivingstandards   \n",
       "1                          Work    Homepage                       /work   \n",
       "2    Private life and community    Homepage    /privatelifeandcommunity   \n",
       "3                        Health    Homepage                     /health   \n",
       "4                     Education    Homepage                  /education   \n",
       "5          Security and justice    Homepage         /securityandjustice   \n",
       "\n",
       "  parent_uri                   description level source  \n",
       "0          /  Housing and Living Standards    T1         \n",
       "1          /                          Work    T1         \n",
       "2          /    Private life and community    T1         \n",
       "3          /                        Health    T1         \n",
       "4          /                     Education    T1         \n",
       "5          /          Security and justice    T1         "
      ]
     },
     "execution_count": 46,
     "metadata": {},
     "output_type": "execute_result"
    }
   ],
   "source": [
    "t1_output = pd.DataFrame(columns=output_columns)\n",
    "\n",
    "unique_topics = data.Topic.unique()\n",
    "for topic in unique_topics:\n",
    "    t1_output.loc[len(t1_output)]=[topic,'Homepage','/' + to_uri(topic),'/', topic, 'T1', '']\n",
    "\n",
    "t1_output"
   ]
  },
  {
   "cell_type": "code",
   "execution_count": 58,
   "metadata": {
    "collapsed": false
   },
   "outputs": [
    {
     "data": {
      "text/html": [
       "<div>\n",
       "<table border=\"1\" class=\"dataframe\">\n",
       "  <thead>\n",
       "    <tr style=\"text-align: right;\">\n",
       "      <th></th>\n",
       "      <th>name</th>\n",
       "      <th>parent_name</th>\n",
       "      <th>uri</th>\n",
       "      <th>parent_uri</th>\n",
       "      <th>description</th>\n",
       "      <th>level</th>\n",
       "      <th>source</th>\n",
       "    </tr>\n",
       "  </thead>\n",
       "  <tbody>\n",
       "    <tr>\n",
       "      <th>0</th>\n",
       "      <td>Housing</td>\n",
       "      <td>Housing and Living Standards</td>\n",
       "      <td>/housingandlivingstandards/housing</td>\n",
       "      <td>/housingandlivingstandards</td>\n",
       "      <td>Housing</td>\n",
       "      <td>T2</td>\n",
       "      <td></td>\n",
       "    </tr>\n",
       "    <tr>\n",
       "      <th>1</th>\n",
       "      <td>Living standards</td>\n",
       "      <td>Housing and Living Standards</td>\n",
       "      <td>/housingandlivingstandards/livingstandards</td>\n",
       "      <td>/housingandlivingstandards</td>\n",
       "      <td>Living standards</td>\n",
       "      <td>T2</td>\n",
       "      <td></td>\n",
       "    </tr>\n",
       "    <tr>\n",
       "      <th>2</th>\n",
       "      <td>Employment</td>\n",
       "      <td>Work</td>\n",
       "      <td>/work/employment</td>\n",
       "      <td>/work</td>\n",
       "      <td>Employment</td>\n",
       "      <td>T2</td>\n",
       "      <td></td>\n",
       "    </tr>\n",
       "  </tbody>\n",
       "</table>\n",
       "</div>"
      ],
      "text/plain": [
       "               name                   parent_name  \\\n",
       "0           Housing  Housing and Living Standards   \n",
       "1  Living standards  Housing and Living Standards   \n",
       "2        Employment                          Work   \n",
       "\n",
       "                                          uri                  parent_uri  \\\n",
       "0          /housingandlivingstandards/housing  /housingandlivingstandards   \n",
       "1  /housingandlivingstandards/livingstandards  /housingandlivingstandards   \n",
       "2                            /work/employment                       /work   \n",
       "\n",
       "        description level source  \n",
       "0           Housing    T2         \n",
       "1  Living standards    T2         \n",
       "2        Employment    T2         "
      ]
     },
     "execution_count": 58,
     "metadata": {},
     "output_type": "execute_result"
    }
   ],
   "source": [
    "t2_output = pd.DataFrame(columns=output_columns)\n",
    "\n",
    "unique_sub_topics = data[['Topic', 'Subtopic']].copy().drop_duplicates()\n",
    "unique_sub_topics\n",
    "\n",
    "for index, sub_topic  in unique_sub_topics.iterrows():\n",
    "    parent_uri = '/' + to_uri(sub_topic.Topic)\n",
    "    sub_topic_uri = parent_uri + '/' + to_uri(sub_topic.Subtopic)\n",
    "    t2_output.loc[len(t2_output)]=[sub_topic.Subtopic, sub_topic.Topic, sub_topic_uri, parent_uri, sub_topic.Subtopic, 'T2', '']\n",
    "    \n",
    "t2_output.head(3)"
   ]
  },
  {
   "cell_type": "code",
   "execution_count": 57,
   "metadata": {
    "collapsed": false
   },
   "outputs": [
    {
     "data": {
      "text/html": [
       "<div>\n",
       "<table border=\"1\" class=\"dataframe\">\n",
       "  <thead>\n",
       "    <tr style=\"text-align: right;\">\n",
       "      <th></th>\n",
       "      <th>name</th>\n",
       "      <th>parent_name</th>\n",
       "      <th>uri</th>\n",
       "      <th>parent_uri</th>\n",
       "      <th>description</th>\n",
       "      <th>level</th>\n",
       "      <th>source</th>\n",
       "    </tr>\n",
       "  </thead>\n",
       "  <tbody>\n",
       "    <tr>\n",
       "      <th>0</th>\n",
       "      <td>Housing_t3</td>\n",
       "      <td>Housing</td>\n",
       "      <td>/housingandlivingstandards/housing/1</td>\n",
       "      <td>/housingandlivingstandards/housing</td>\n",
       "      <td>Housing</td>\n",
       "      <td>T3</td>\n",
       "      <td></td>\n",
       "    </tr>\n",
       "    <tr>\n",
       "      <th>1</th>\n",
       "      <td>Living standards_t3</td>\n",
       "      <td>Living standards</td>\n",
       "      <td>/housingandlivingstandards/livingstandards/1</td>\n",
       "      <td>/housingandlivingstandards/livingstandards</td>\n",
       "      <td>Living standards</td>\n",
       "      <td>T3</td>\n",
       "      <td></td>\n",
       "    </tr>\n",
       "    <tr>\n",
       "      <th>2</th>\n",
       "      <td>Employment_t3</td>\n",
       "      <td>Employment</td>\n",
       "      <td>/work/employment/1</td>\n",
       "      <td>/work/employment</td>\n",
       "      <td>Employment</td>\n",
       "      <td>T3</td>\n",
       "      <td></td>\n",
       "    </tr>\n",
       "  </tbody>\n",
       "</table>\n",
       "</div>"
      ],
      "text/plain": [
       "                  name       parent_name  \\\n",
       "0           Housing_t3           Housing   \n",
       "1  Living standards_t3  Living standards   \n",
       "2        Employment_t3        Employment   \n",
       "\n",
       "                                            uri  \\\n",
       "0          /housingandlivingstandards/housing/1   \n",
       "1  /housingandlivingstandards/livingstandards/1   \n",
       "2                            /work/employment/1   \n",
       "\n",
       "                                   parent_uri       description level source  \n",
       "0          /housingandlivingstandards/housing           Housing    T3         \n",
       "1  /housingandlivingstandards/livingstandards  Living standards    T3         \n",
       "2                            /work/employment        Employment    T3         "
      ]
     },
     "execution_count": 57,
     "metadata": {},
     "output_type": "execute_result"
    }
   ],
   "source": [
    "t3_output = pd.DataFrame(columns=output_columns)\n",
    "\n",
    "for index, t  in t2_output.iterrows():\n",
    "    t3_output.loc[len(t3_output)]=[t[0] + '_t3', t[0], t.uri + '/1', t.uri, t.description, 'T3', '']\n",
    "\n",
    "t3_output.head(3)"
   ]
  },
  {
   "cell_type": "code",
   "execution_count": 61,
   "metadata": {
    "collapsed": false
   },
   "outputs": [
    {
     "data": {
      "text/html": [
       "<div>\n",
       "<table border=\"1\" class=\"dataframe\">\n",
       "  <thead>\n",
       "    <tr style=\"text-align: right;\">\n",
       "      <th></th>\n",
       "      <th>name</th>\n",
       "      <th>parent_name</th>\n",
       "      <th>uri</th>\n",
       "      <th>parent_uri</th>\n",
       "      <th>description</th>\n",
       "      <th>level</th>\n",
       "      <th>source</th>\n",
       "    </tr>\n",
       "  </thead>\n",
       "  <tbody>\n",
       "    <tr>\n",
       "      <th>0</th>\n",
       "      <td>Home ownership in England</td>\n",
       "      <td>Housing_t3</td>\n",
       "      <td>/housingandlivingstandards/housing/1/homeowner...</td>\n",
       "      <td>/housingandlivingstandards/housing/1</td>\n",
       "      <td>Home ownership in England</td>\n",
       "      <td>T4</td>\n",
       "      <td></td>\n",
       "    </tr>\n",
       "    <tr>\n",
       "      <th>1</th>\n",
       "      <td>People who get financial help from their paren...</td>\n",
       "      <td>Housing_t3</td>\n",
       "      <td>/housingandlivingstandards/housing/1/peoplewho...</td>\n",
       "      <td>/housingandlivingstandards/housing/1</td>\n",
       "      <td>People who get financial help from their paren...</td>\n",
       "      <td>T4</td>\n",
       "      <td></td>\n",
       "    </tr>\n",
       "    <tr>\n",
       "      <th>2</th>\n",
       "      <td>Average age of people who buy a home</td>\n",
       "      <td>Housing_t3</td>\n",
       "      <td>/housingandlivingstandards/housing/1/averageag...</td>\n",
       "      <td>/housingandlivingstandards/housing/1</td>\n",
       "      <td>Average age of people who buy a home</td>\n",
       "      <td>T4</td>\n",
       "      <td></td>\n",
       "    </tr>\n",
       "  </tbody>\n",
       "</table>\n",
       "</div>"
      ],
      "text/plain": [
       "                                                name parent_name  \\\n",
       "0                          Home ownership in England  Housing_t3   \n",
       "1  People who get financial help from their paren...  Housing_t3   \n",
       "2               Average age of people who buy a home  Housing_t3   \n",
       "\n",
       "                                                 uri  \\\n",
       "0  /housingandlivingstandards/housing/1/homeowner...   \n",
       "1  /housingandlivingstandards/housing/1/peoplewho...   \n",
       "2  /housingandlivingstandards/housing/1/averageag...   \n",
       "\n",
       "                             parent_uri  \\\n",
       "0  /housingandlivingstandards/housing/1   \n",
       "1  /housingandlivingstandards/housing/1   \n",
       "2  /housingandlivingstandards/housing/1   \n",
       "\n",
       "                                         description level source  \n",
       "0                          Home ownership in England    T4         \n",
       "1  People who get financial help from their paren...    T4         \n",
       "2               Average age of people who buy a home    T4         "
      ]
     },
     "execution_count": 61,
     "metadata": {},
     "output_type": "execute_result"
    }
   ],
   "source": [
    "t4_output = pd.DataFrame(columns=output_columns)\n",
    "\n",
    "for index, d  in data.iterrows():\n",
    "    parent_uri = '/' + to_uri(d.Topic) + '/' + to_uri(d.Subtopic) + '/1'\n",
    "    uri = parent_uri + '/' + to_uri(d.Measuretitle)\n",
    "    t4_output.loc[len(t4_output)] = [d.Measuretitle, d.Subtopic + '_t3', uri, parent_uri, d.Measuretitle, 'T4', '']\n",
    "\n",
    "t4_output.head(3)"
   ]
  },
  {
   "cell_type": "code",
   "execution_count": 64,
   "metadata": {
    "collapsed": false
   },
   "outputs": [],
   "source": [
    "output = pd.concat([t0_output, t1_output, t2_output, t3_output, t4_output])\n",
    "output.to_csv(\"../data/taxonomy_x.csv\")"
   ]
  },
  {
   "cell_type": "code",
   "execution_count": null,
   "metadata": {
    "collapsed": true
   },
   "outputs": [],
   "source": []
  }
 ],
 "metadata": {
  "kernelspec": {
   "display_name": "Python 3",
   "language": "python",
   "name": "python3"
  },
  "language_info": {
   "codemirror_mode": {
    "name": "ipython",
    "version": 3
   },
   "file_extension": ".py",
   "mimetype": "text/x-python",
   "name": "python",
   "nbconvert_exporter": "python",
   "pygments_lexer": "ipython3",
   "version": "3.6.0"
  }
 },
 "nbformat": 4,
 "nbformat_minor": 2
}
