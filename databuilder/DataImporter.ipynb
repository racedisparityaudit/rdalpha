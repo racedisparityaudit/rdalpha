{
 "cells": [
  {
   "cell_type": "markdown",
   "metadata": {},
   "source": [
    "## class DataImporter(object)\n",
    "\n",
    "##### Functionality\n",
    "Imports an expected format for data into a pandas data frame with an individual row for each reading"
   ]
  },
  {
   "cell_type": "markdown",
   "metadata": {},
   "source": [
    "##### How it works\n",
    "Most data is read in as a standard table format\n",
    "Further details about the measures we are importing are read in from the measures sheet"
   ]
  },
  {
   "cell_type": "markdown",
   "metadata": {},
   "source": [
    "##### Part 1.\n",
    "Read in the excel spreadsheet"
   ]
  },
  {
   "cell_type": "code",
   "execution_count": 37,
   "metadata": {
    "collapsed": true
   },
   "outputs": [],
   "source": [
    "import pandas as pd\n",
    "import numpy as np"
   ]
  },
  {
   "cell_type": "code",
   "execution_count": 25,
   "metadata": {
    "collapsed": true
   },
   "outputs": [],
   "source": [
    "excel_file = '../data/datasets/unemployment_in_the_labour_market.xlsx'\n",
    "data_page_categories = ['Race', 'Race_type', 'Location', 'Location_type', 'Income', 'Income_type', 'Gender', 'Age Bracket']\n",
    "data_page = 'Data'\n",
    "measures_page = 'Measures'"
   ]
  },
  {
   "cell_type": "code",
   "execution_count": 20,
   "metadata": {
    "collapsed": false
   },
   "outputs": [
    {
     "data": {
      "text/html": [
       "<div>\n",
       "<table border=\"1\" class=\"dataframe\">\n",
       "  <thead>\n",
       "    <tr style=\"text-align: right;\">\n",
       "      <th></th>\n",
       "      <th>Race</th>\n",
       "      <th>Race_type</th>\n",
       "      <th>Location</th>\n",
       "      <th>Location_type</th>\n",
       "      <th>Income</th>\n",
       "      <th>Income_type</th>\n",
       "      <th>Gender</th>\n",
       "      <th>Age Bracket</th>\n",
       "      <th>1993</th>\n",
       "      <th>1994</th>\n",
       "      <th>...</th>\n",
       "      <th>2006</th>\n",
       "      <th>2007</th>\n",
       "      <th>2008</th>\n",
       "      <th>2009</th>\n",
       "      <th>2010</th>\n",
       "      <th>2011</th>\n",
       "      <th>2012</th>\n",
       "      <th>2013</th>\n",
       "      <th>2014</th>\n",
       "      <th>2015</th>\n",
       "    </tr>\n",
       "  </thead>\n",
       "  <tbody>\n",
       "    <tr>\n",
       "      <th>0</th>\n",
       "      <td>White</td>\n",
       "      <td>ONS labour expanded Asian</td>\n",
       "      <td>Great Britain</td>\n",
       "      <td>Country</td>\n",
       "      <td></td>\n",
       "      <td></td>\n",
       "      <td></td>\n",
       "      <td>16+</td>\n",
       "      <td>0.098</td>\n",
       "      <td>0.089</td>\n",
       "      <td>...</td>\n",
       "      <td>0.048</td>\n",
       "      <td>0.048</td>\n",
       "      <td>0.052</td>\n",
       "      <td>0.07</td>\n",
       "      <td>0.073</td>\n",
       "      <td>0.075</td>\n",
       "      <td>0.073</td>\n",
       "      <td>0.068</td>\n",
       "      <td>0.055</td>\n",
       "      <td>0.048</td>\n",
       "    </tr>\n",
       "    <tr>\n",
       "      <th>1</th>\n",
       "      <td>Black</td>\n",
       "      <td>ONS labour expanded Asian</td>\n",
       "      <td>Great Britain</td>\n",
       "      <td>Country</td>\n",
       "      <td></td>\n",
       "      <td></td>\n",
       "      <td></td>\n",
       "      <td>16+</td>\n",
       "      <td>0.275</td>\n",
       "      <td>0.253</td>\n",
       "      <td>...</td>\n",
       "      <td>0.139</td>\n",
       "      <td>0.132</td>\n",
       "      <td>0.134</td>\n",
       "      <td>0.179</td>\n",
       "      <td>0.164</td>\n",
       "      <td>0.196</td>\n",
       "      <td>0.166</td>\n",
       "      <td>0.17</td>\n",
       "      <td>0.154</td>\n",
       "      <td>0.14</td>\n",
       "    </tr>\n",
       "    <tr>\n",
       "      <th>2</th>\n",
       "      <td>Mixed or multiple</td>\n",
       "      <td>ONS labour expanded Asian</td>\n",
       "      <td>Great Britain</td>\n",
       "      <td>Country</td>\n",
       "      <td></td>\n",
       "      <td></td>\n",
       "      <td></td>\n",
       "      <td>16+</td>\n",
       "      <td>0.216</td>\n",
       "      <td>0.218</td>\n",
       "      <td>...</td>\n",
       "      <td>0.132</td>\n",
       "      <td>0.116</td>\n",
       "      <td>0.134</td>\n",
       "      <td>0.158</td>\n",
       "      <td>0.141</td>\n",
       "      <td>0.158</td>\n",
       "      <td>0.154</td>\n",
       "      <td>0.148</td>\n",
       "      <td>0.132</td>\n",
       "      <td>0.112</td>\n",
       "    </tr>\n",
       "  </tbody>\n",
       "</table>\n",
       "<p>3 rows × 30 columns</p>\n",
       "</div>"
      ],
      "text/plain": [
       "                Race                  Race_type       Location Location_type  \\\n",
       "0              White  ONS labour expanded Asian  Great Britain       Country   \n",
       "1              Black  ONS labour expanded Asian  Great Britain       Country   \n",
       "2  Mixed or multiple  ONS labour expanded Asian  Great Britain       Country   \n",
       "\n",
       "  Income Income_type Gender Age Bracket   1993   1994  ...     2006   2007  \\\n",
       "0                                   16+  0.098  0.089  ...    0.048  0.048   \n",
       "1                                   16+  0.275  0.253  ...    0.139  0.132   \n",
       "2                                   16+  0.216  0.218  ...    0.132  0.116   \n",
       "\n",
       "    2008   2009   2010   2011   2012   2013   2014   2015  \n",
       "0  0.052   0.07  0.073  0.075  0.073  0.068  0.055  0.048  \n",
       "1  0.134  0.179  0.164  0.196  0.166   0.17  0.154   0.14  \n",
       "2  0.134  0.158  0.141  0.158  0.154  0.148  0.132  0.112  \n",
       "\n",
       "[3 rows x 30 columns]"
      ]
     },
     "execution_count": 20,
     "metadata": {},
     "output_type": "execute_result"
    }
   ],
   "source": [
    "data = pd.read_excel(io=excel_file, sheetname=data_page).fillna('')\n",
    "data.head(3)"
   ]
  },
  {
   "cell_type": "code",
   "execution_count": 22,
   "metadata": {
    "collapsed": false
   },
   "outputs": [
    {
     "data": {
      "text/html": [
       "<div>\n",
       "<table border=\"1\" class=\"dataframe\">\n",
       "  <thead>\n",
       "    <tr style=\"text-align: right;\">\n",
       "      <th></th>\n",
       "      <th>Code</th>\n",
       "      <th>Measure</th>\n",
       "      <th>Time</th>\n",
       "      <th>Time_type</th>\n",
       "    </tr>\n",
       "  </thead>\n",
       "  <tbody>\n",
       "    <tr>\n",
       "      <th>0</th>\n",
       "      <td>1993</td>\n",
       "      <td>Unemployment in the labour force</td>\n",
       "      <td>1993</td>\n",
       "      <td>Year</td>\n",
       "    </tr>\n",
       "    <tr>\n",
       "      <th>1</th>\n",
       "      <td>1994</td>\n",
       "      <td>Unemployment in the labour force</td>\n",
       "      <td>1994</td>\n",
       "      <td>Year</td>\n",
       "    </tr>\n",
       "    <tr>\n",
       "      <th>2</th>\n",
       "      <td>1995</td>\n",
       "      <td>Unemployment in the labour force</td>\n",
       "      <td>1995</td>\n",
       "      <td>Year</td>\n",
       "    </tr>\n",
       "  </tbody>\n",
       "</table>\n",
       "</div>"
      ],
      "text/plain": [
       "   Code                           Measure  Time Time_type\n",
       "0  1993  Unemployment in the labour force  1993      Year\n",
       "1  1994  Unemployment in the labour force  1994      Year\n",
       "2  1995  Unemployment in the labour force  1995      Year"
      ]
     },
     "execution_count": 22,
     "metadata": {},
     "output_type": "execute_result"
    }
   ],
   "source": [
    "measures = pd.read_excel(io=excel_file, sheetname=measures_page).fillna('')\n",
    "measures.head(3)"
   ]
  },
  {
   "cell_type": "markdown",
   "metadata": {},
   "source": [
    "##### Part 2.\n",
    "    Build some infrastructure"
   ]
  },
  {
   "cell_type": "code",
   "execution_count": 32,
   "metadata": {
    "collapsed": false
   },
   "outputs": [
    {
     "data": {
      "text/plain": [
       "['Code',\n",
       " 'Measure',\n",
       " 'Time',\n",
       " 'Time_type',\n",
       " 'Race',\n",
       " 'Race_type',\n",
       " 'Location',\n",
       " 'Location_type',\n",
       " 'Income',\n",
       " 'Income_type',\n",
       " 'Gender',\n",
       " 'Age Bracket']"
      ]
     },
     "execution_count": 32,
     "metadata": {},
     "output_type": "execute_result"
    }
   ],
   "source": [
    "categories = list(measures) + data_page_categories\n",
    "categories"
   ]
  },
  {
   "cell_type": "code",
   "execution_count": 38,
   "metadata": {
    "collapsed": false
   },
   "outputs": [
    {
     "data": {
      "text/html": [
       "<div>\n",
       "<table border=\"1\" class=\"dataframe\">\n",
       "  <thead>\n",
       "    <tr style=\"text-align: right;\">\n",
       "      <th></th>\n",
       "      <th>Race</th>\n",
       "      <th>Race_type</th>\n",
       "      <th>Location</th>\n",
       "      <th>Location_type</th>\n",
       "      <th>Income</th>\n",
       "      <th>Income_type</th>\n",
       "      <th>Gender</th>\n",
       "      <th>Age Bracket</th>\n",
       "      <th>1993</th>\n",
       "      <th>1994</th>\n",
       "      <th>...</th>\n",
       "      <th>2010</th>\n",
       "      <th>2011</th>\n",
       "      <th>2012</th>\n",
       "      <th>2013</th>\n",
       "      <th>2014</th>\n",
       "      <th>2015</th>\n",
       "      <th>Code</th>\n",
       "      <th>Measure</th>\n",
       "      <th>Time</th>\n",
       "      <th>Time_type</th>\n",
       "    </tr>\n",
       "  </thead>\n",
       "  <tbody>\n",
       "    <tr>\n",
       "      <th>0</th>\n",
       "      <td>White</td>\n",
       "      <td>ONS labour expanded Asian</td>\n",
       "      <td>Great Britain</td>\n",
       "      <td>Country</td>\n",
       "      <td></td>\n",
       "      <td></td>\n",
       "      <td></td>\n",
       "      <td>16+</td>\n",
       "      <td>0.098</td>\n",
       "      <td>0.089</td>\n",
       "      <td>...</td>\n",
       "      <td>0.073</td>\n",
       "      <td>0.075</td>\n",
       "      <td>0.073</td>\n",
       "      <td>0.068</td>\n",
       "      <td>0.055</td>\n",
       "      <td>0.048</td>\n",
       "      <td>0.0</td>\n",
       "      <td>0.0</td>\n",
       "      <td>0.0</td>\n",
       "      <td>0.0</td>\n",
       "    </tr>\n",
       "    <tr>\n",
       "      <th>1</th>\n",
       "      <td>Black</td>\n",
       "      <td>ONS labour expanded Asian</td>\n",
       "      <td>Great Britain</td>\n",
       "      <td>Country</td>\n",
       "      <td></td>\n",
       "      <td></td>\n",
       "      <td></td>\n",
       "      <td>16+</td>\n",
       "      <td>0.275</td>\n",
       "      <td>0.253</td>\n",
       "      <td>...</td>\n",
       "      <td>0.164</td>\n",
       "      <td>0.196</td>\n",
       "      <td>0.166</td>\n",
       "      <td>0.17</td>\n",
       "      <td>0.154</td>\n",
       "      <td>0.14</td>\n",
       "      <td>0.0</td>\n",
       "      <td>0.0</td>\n",
       "      <td>0.0</td>\n",
       "      <td>0.0</td>\n",
       "    </tr>\n",
       "    <tr>\n",
       "      <th>2</th>\n",
       "      <td>Mixed or multiple</td>\n",
       "      <td>ONS labour expanded Asian</td>\n",
       "      <td>Great Britain</td>\n",
       "      <td>Country</td>\n",
       "      <td></td>\n",
       "      <td></td>\n",
       "      <td></td>\n",
       "      <td>16+</td>\n",
       "      <td>0.216</td>\n",
       "      <td>0.218</td>\n",
       "      <td>...</td>\n",
       "      <td>0.141</td>\n",
       "      <td>0.158</td>\n",
       "      <td>0.154</td>\n",
       "      <td>0.148</td>\n",
       "      <td>0.132</td>\n",
       "      <td>0.112</td>\n",
       "      <td>0.0</td>\n",
       "      <td>0.0</td>\n",
       "      <td>0.0</td>\n",
       "      <td>0.0</td>\n",
       "    </tr>\n",
       "  </tbody>\n",
       "</table>\n",
       "<p>3 rows × 34 columns</p>\n",
       "</div>"
      ],
      "text/plain": [
       "                Race                  Race_type       Location Location_type  \\\n",
       "0              White  ONS labour expanded Asian  Great Britain       Country   \n",
       "1              Black  ONS labour expanded Asian  Great Britain       Country   \n",
       "2  Mixed or multiple  ONS labour expanded Asian  Great Britain       Country   \n",
       "\n",
       "  Income Income_type Gender Age Bracket   1993   1994    ...      2010   2011  \\\n",
       "0                                   16+  0.098  0.089    ...     0.073  0.075   \n",
       "1                                   16+  0.275  0.253    ...     0.164  0.196   \n",
       "2                                   16+  0.216  0.218    ...     0.141  0.158   \n",
       "\n",
       "    2012   2013   2014   2015 Code Measure Time Time_type  \n",
       "0  0.073  0.068  0.055  0.048  0.0     0.0  0.0       0.0  \n",
       "1  0.166   0.17  0.154   0.14  0.0     0.0  0.0       0.0  \n",
       "2  0.154  0.148  0.132  0.112  0.0     0.0  0.0       0.0  \n",
       "\n",
       "[3 rows x 34 columns]"
      ]
     },
     "execution_count": 38,
     "metadata": {},
     "output_type": "execute_result"
    }
   ],
   "source": [
    "row_count = len(data.index)\n",
    "full_data = data\n",
    "for measure_column in list(measures):\n",
    "    full_data[measure_column] = pd.Series(np.zeros(row_count))\n",
    "    \n",
    "full_data.head(3)"
   ]
  },
  {
   "cell_type": "code",
   "execution_count": 54,
   "metadata": {
    "collapsed": false
   },
   "outputs": [
    {
     "data": {
      "text/plain": [
       "['Code',\n",
       " 'Measure',\n",
       " 'Time',\n",
       " 'Time_type',\n",
       " 'Race',\n",
       " 'Race_type',\n",
       " 'Location',\n",
       " 'Location_type',\n",
       " 'Income',\n",
       " 'Income_type',\n",
       " 'Gender',\n",
       " 'Age Bracket']"
      ]
     },
     "execution_count": 54,
     "metadata": {},
     "output_type": "execute_result"
    }
   ],
   "source": [
    "results = pd.DataFrame(columns = categories + ['Value'])\n",
    "results"
   ]
  },
  {
   "cell_type": "code",
   "execution_count": 65,
   "metadata": {
    "collapsed": false
   },
   "outputs": [
    {
     "data": {
      "text/html": [
       "<div>\n",
       "<table border=\"1\" class=\"dataframe\">\n",
       "  <thead>\n",
       "    <tr style=\"text-align: right;\">\n",
       "      <th></th>\n",
       "      <th>Code</th>\n",
       "      <th>Measure</th>\n",
       "      <th>Time</th>\n",
       "      <th>Time_type</th>\n",
       "      <th>Race</th>\n",
       "      <th>Race_type</th>\n",
       "      <th>Location</th>\n",
       "      <th>Location_type</th>\n",
       "      <th>Income</th>\n",
       "      <th>Income_type</th>\n",
       "      <th>Gender</th>\n",
       "      <th>Age Bracket</th>\n",
       "      <th>Value</th>\n",
       "    </tr>\n",
       "  </thead>\n",
       "  <tbody>\n",
       "    <tr>\n",
       "      <th>0</th>\n",
       "      <td>1993</td>\n",
       "      <td>Unemployment in the labour force</td>\n",
       "      <td>1993</td>\n",
       "      <td>Year</td>\n",
       "      <td>White</td>\n",
       "      <td>ONS labour expanded Asian</td>\n",
       "      <td>Great Britain</td>\n",
       "      <td>Country</td>\n",
       "      <td></td>\n",
       "      <td></td>\n",
       "      <td></td>\n",
       "      <td>16+</td>\n",
       "      <td>0.098</td>\n",
       "    </tr>\n",
       "    <tr>\n",
       "      <th>1</th>\n",
       "      <td>1993</td>\n",
       "      <td>Unemployment in the labour force</td>\n",
       "      <td>1993</td>\n",
       "      <td>Year</td>\n",
       "      <td>Black</td>\n",
       "      <td>ONS labour expanded Asian</td>\n",
       "      <td>Great Britain</td>\n",
       "      <td>Country</td>\n",
       "      <td></td>\n",
       "      <td></td>\n",
       "      <td></td>\n",
       "      <td>16+</td>\n",
       "      <td>0.275</td>\n",
       "    </tr>\n",
       "    <tr>\n",
       "      <th>2</th>\n",
       "      <td>1993</td>\n",
       "      <td>Unemployment in the labour force</td>\n",
       "      <td>1993</td>\n",
       "      <td>Year</td>\n",
       "      <td>Mixed or multiple</td>\n",
       "      <td>ONS labour expanded Asian</td>\n",
       "      <td>Great Britain</td>\n",
       "      <td>Country</td>\n",
       "      <td></td>\n",
       "      <td></td>\n",
       "      <td></td>\n",
       "      <td>16+</td>\n",
       "      <td>0.216</td>\n",
       "    </tr>\n",
       "    <tr>\n",
       "      <th>3</th>\n",
       "      <td>1993</td>\n",
       "      <td>Unemployment in the labour force</td>\n",
       "      <td>1993</td>\n",
       "      <td>Year</td>\n",
       "      <td>Indian</td>\n",
       "      <td>ONS labour expanded Asian</td>\n",
       "      <td>Great Britain</td>\n",
       "      <td>Country</td>\n",
       "      <td></td>\n",
       "      <td></td>\n",
       "      <td></td>\n",
       "      <td>16+</td>\n",
       "      <td>0.141</td>\n",
       "    </tr>\n",
       "    <tr>\n",
       "      <th>4</th>\n",
       "      <td>1993</td>\n",
       "      <td>Unemployment in the labour force</td>\n",
       "      <td>1993</td>\n",
       "      <td>Year</td>\n",
       "      <td>Pakistani/Bangladeshi</td>\n",
       "      <td>ONS labour expanded Asian</td>\n",
       "      <td>Great Britain</td>\n",
       "      <td>Country</td>\n",
       "      <td></td>\n",
       "      <td></td>\n",
       "      <td></td>\n",
       "      <td>16+</td>\n",
       "      <td>0.321</td>\n",
       "    </tr>\n",
       "  </tbody>\n",
       "</table>\n",
       "</div>"
      ],
      "text/plain": [
       "   Code                           Measure  Time Time_type  \\\n",
       "0  1993  Unemployment in the labour force  1993      Year   \n",
       "1  1993  Unemployment in the labour force  1993      Year   \n",
       "2  1993  Unemployment in the labour force  1993      Year   \n",
       "3  1993  Unemployment in the labour force  1993      Year   \n",
       "4  1993  Unemployment in the labour force  1993      Year   \n",
       "\n",
       "                    Race                  Race_type       Location  \\\n",
       "0                  White  ONS labour expanded Asian  Great Britain   \n",
       "1                  Black  ONS labour expanded Asian  Great Britain   \n",
       "2      Mixed or multiple  ONS labour expanded Asian  Great Britain   \n",
       "3                 Indian  ONS labour expanded Asian  Great Britain   \n",
       "4  Pakistani/Bangladeshi  ONS labour expanded Asian  Great Britain   \n",
       "\n",
       "  Location_type Income Income_type Gender Age Bracket  Value  \n",
       "0       Country                                   16+  0.098  \n",
       "1       Country                                   16+  0.275  \n",
       "2       Country                                   16+  0.216  \n",
       "3       Country                                   16+  0.141  \n",
       "4       Country                                   16+  0.321  "
      ]
     },
     "execution_count": 65,
     "metadata": {},
     "output_type": "execute_result"
    }
   ],
   "source": [
    "\n",
    "for index, measure_row in measures.iterrows():\n",
    "        tmp_data = full_data\n",
    "        for measure_column in list(measures):\n",
    "            tmp_data[measure_column] = str(measure_row[measure_column])\n",
    "\n",
    "        if measure_row['Code'] in tmp_data:\n",
    "            tmp_columns = categories + [measure_row['Code']]\n",
    "\n",
    "            tmp_results = tmp_data[tmp_columns]\n",
    "            tmp_results.columns = categories + ['Value']\n",
    "            results = results.append(tmp_results)\n",
    "    \n",
    "results.head(5)"
   ]
  },
  {
   "cell_type": "code",
   "execution_count": null,
   "metadata": {
    "collapsed": true
   },
   "outputs": [],
   "source": []
  }
 ],
 "metadata": {
  "kernelspec": {
   "display_name": "Python 3",
   "language": "python",
   "name": "python3"
  },
  "language_info": {
   "codemirror_mode": {
    "name": "ipython",
    "version": 3
   },
   "file_extension": ".py",
   "mimetype": "text/x-python",
   "name": "python",
   "nbconvert_exporter": "python",
   "pygments_lexer": "ipython3",
   "version": "3.6.0"
  }
 },
 "nbformat": 4,
 "nbformat_minor": 2
}
